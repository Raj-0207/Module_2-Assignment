{
  "nbformat": 4,
  "nbformat_minor": 0,
  "metadata": {
    "colab": {
      "provenance": []
    },
    "kernelspec": {
      "name": "python3",
      "display_name": "Python 3"
    },
    "language_info": {
      "name": "python"
    }
  },
  "cells": [
    {
      "cell_type": "markdown",
      "source": [
        "#Python Basics Questions"
      ],
      "metadata": {
        "id": "ZJEb_BdoAVcK"
      }
    },
    {
      "cell_type": "markdown",
      "source": [
        "# Q1 What is Python, and why is it popular?"
      ],
      "metadata": {
        "id": "ysaJ2zmG3wbb"
      }
    },
    {
      "cell_type": "markdown",
      "source": [
        "Ans: Python is  high-level, interpreted programming language known for its simplicity and readability. Its versatility makes it suitable for a wide range of applications such as web development, data analysis, machine learning, and automation. Python is popular because of its extensive library support (e.g., Pandas, NumPy, etc), cross-platform compatibility, and large, active community that provides more resources and support for learners developers."
      ],
      "metadata": {
        "id": "QOOc9j1y35JE"
      }
    },
    {
      "cell_type": "markdown",
      "source": [
        "# Q2 What is an interpreter in Python?"
      ],
      "metadata": {
        "id": "DaT6TYIi4ftE"
      }
    },
    {
      "cell_type": "markdown",
      "source": [
        "Ans: Interpreter is a component that executes Python code line by line, translating it into machine-readable instructions. Unlike compilers, interpreters don’t generate intermediate machine code. Python’s interpreter ensures ease of debugging, dynamic execution, and platform independence, which are some of the key advantages of Python."
      ],
      "metadata": {
        "id": "lyEZWTXg4k08"
      }
    },
    {
      "cell_type": "markdown",
      "source": [
        "# Q3 What are pre-defined keywords in Python?"
      ],
      "metadata": {
        "id": "S7CBrQkH47sE"
      }
    },
    {
      "cell_type": "markdown",
      "source": [
        "Ans: Pre-defined keywords in Python are reserved words that have specific meanings and purposes in the code for the computer for execution. Examples include if, else, while, for, try, and except. These keywords cannot be used as variable names, as they are integral to Python's syntax and structure."
      ],
      "metadata": {
        "id": "U0qQ8OnI5AWc"
      }
    },
    {
      "cell_type": "markdown",
      "source": [
        "# Q4 Can keywords be used as variable names?\n"
      ],
      "metadata": {
        "id": "hEUToc315Wf7"
      }
    },
    {
      "cell_type": "markdown",
      "source": [
        "Ans: No, keywords cannot be used as variable names in Python. They are reserved for specific functionalities in the language. For example, you cannot create a variable named \"if\" because it is a keyword used for conditional statements and it has specific meaning to code and at the time of execution keyword is used for specific meaning."
      ],
      "metadata": {
        "id": "-qoNbCoo5cik"
      }
    },
    {
      "cell_type": "markdown",
      "source": [
        "# Q5 What is mutability in Python?"
      ],
      "metadata": {
        "id": "pql_2fft5t90"
      }
    },
    {
      "cell_type": "markdown",
      "source": [
        "Ans: Mutability means the ability of an object to be modified after it is created. In Python, mutable objects, such as lists and dictionaries, can be changed (e.g., adding, removing, or modifying elements), while immutable objects, such as strings and tuples, cannot be altered once created however it can be done with help of typecasting."
      ],
      "metadata": {
        "id": "EF7QIJdX50xc"
      }
    },
    {
      "cell_type": "markdown",
      "source": [
        "# Q6 Why are lists mutable, but tuples are immutable?\n"
      ],
      "metadata": {
        "id": "q-8BzHyY6CAl"
      }
    },
    {
      "cell_type": "markdown",
      "source": [
        "Ans: Lists are mutable to allow dynamic changes, such as adding or removing elements, making them suitable for scenarios where the data structure needs frequent changes or updates. Tuples, on the other side, are immutable to ensure stability, which is essential for their use as keys in dictionaries or elements in sets."
      ],
      "metadata": {
        "id": "tvbW9EEs6E7d"
      }
    },
    {
      "cell_type": "markdown",
      "source": [
        "# Q7 What is the difference between == and is operators in Python?"
      ],
      "metadata": {
        "id": "36RS4mpC6h_3"
      }
    },
    {
      "cell_type": "markdown",
      "source": [
        "Ans: The \"==\" operator compares the values of two objects to check if they are equal, while the \"is\" operator checks whether two objects locates at the same memory location. For example:"
      ],
      "metadata": {
        "id": "h_iM-Aqy6rRI"
      }
    },
    {
      "cell_type": "code",
      "source": [
        "a = [1, 2, 3]\n",
        "b = [1, 2, 3]\n",
        "print(a == b)  # True (values are the same)\n",
        "print(a is b)  # False (different memory locations)"
      ],
      "metadata": {
        "colab": {
          "base_uri": "https://localhost:8080/"
        },
        "id": "0orV0u3O69kY",
        "outputId": "e6975289-29b5-47bf-a679-f3a274af3914"
      },
      "execution_count": null,
      "outputs": [
        {
          "output_type": "stream",
          "name": "stdout",
          "text": [
            "True\n",
            "False\n"
          ]
        }
      ]
    },
    {
      "cell_type": "markdown",
      "source": [
        "# Q8 What are logical operators in Python?"
      ],
      "metadata": {
        "id": "2wzQLBIc7JNR"
      }
    },
    {
      "cell_type": "markdown",
      "source": [
        "Ans: Logical operators in Python are used to perform logical operations on boolean values.\n",
        "and: Returns True if both operands are True.\n",
        "or: Returns True if at least one operand is True.\n",
        "not: Reverses the boolean value of the operand. Example:"
      ],
      "metadata": {
        "id": "kLLvsDi67Orh"
      }
    },
    {
      "cell_type": "code",
      "source": [
        "a = True\n",
        "b = False\n",
        "print(a and b)  # False\n",
        "print(a or b)   # True\n",
        "print(not a)    # False"
      ],
      "metadata": {
        "colab": {
          "base_uri": "https://localhost:8080/"
        },
        "id": "tyYO5Qu07aB5",
        "outputId": "4445b877-33f0-492c-bb8b-6eb65b31d7d6"
      },
      "execution_count": null,
      "outputs": [
        {
          "output_type": "stream",
          "name": "stdout",
          "text": [
            "False\n",
            "True\n",
            "False\n"
          ]
        }
      ]
    },
    {
      "cell_type": "markdown",
      "source": [
        "# Q9 What is type casting in Python?"
      ],
      "metadata": {
        "id": "gaOXyUI97d5q"
      }
    },
    {
      "cell_type": "markdown",
      "source": [
        "Ans: Type casting is the process of converting one data type to another. Python provides built-in functions for explicit(manual) type casting, such as int(), float(), and str()."
      ],
      "metadata": {
        "id": "Ma4wUbKY7v3x"
      }
    },
    {
      "cell_type": "code",
      "source": [
        "x = \"123\" #here as 123 is given under \"\" so data type of x is str\n",
        "print(type(x))\n",
        "y = int(x)  # Converts string to integer\n",
        "print(type(y))\n",
        "print(y+2)  # Outputs 126"
      ],
      "metadata": {
        "colab": {
          "base_uri": "https://localhost:8080/"
        },
        "id": "ympVX1om7xA6",
        "outputId": "ce655047-2707-4b85-ff6e-2de337ffdb71"
      },
      "execution_count": null,
      "outputs": [
        {
          "output_type": "stream",
          "name": "stdout",
          "text": [
            "<class 'str'>\n",
            "<class 'int'>\n",
            "125\n"
          ]
        }
      ]
    },
    {
      "cell_type": "markdown",
      "source": [
        "# Q10 What is the difference between implicit and explicit type casting?\n"
      ],
      "metadata": {
        "id": "ZQIn2heM8igC"
      }
    },
    {
      "cell_type": "markdown",
      "source": [
        "Ans: Implicit Type Casting: Python automatically converts a smaller data type to a larger data type when necessary. For example:"
      ],
      "metadata": {
        "id": "CuvziONu8mDq"
      }
    },
    {
      "cell_type": "code",
      "source": [
        "x = 5\n",
        "y = 2.5\n",
        "z = x + y  # Automatically converts `x` to float\n",
        "print(z)  # 7.5"
      ],
      "metadata": {
        "colab": {
          "base_uri": "https://localhost:8080/"
        },
        "id": "zrNR1nhN7BaA",
        "outputId": "65fca9da-536c-46e9-bae7-39abeba72d64"
      },
      "execution_count": null,
      "outputs": [
        {
          "output_type": "stream",
          "name": "stdout",
          "text": [
            "7.5\n"
          ]
        }
      ]
    },
    {
      "cell_type": "markdown",
      "source": [
        "Explicit Type Casting: The programmer explicitly(manually) converts data types using functions like int(), float(), or str() within the code"
      ],
      "metadata": {
        "id": "7JuaAWey8zIK"
      }
    },
    {
      "cell_type": "code",
      "source": [
        "x = \"10\"\n",
        "print(type(x)) # str\n",
        "y = int(x)  # Converts string to integer\n",
        "print(type(y)) # int"
      ],
      "metadata": {
        "colab": {
          "base_uri": "https://localhost:8080/"
        },
        "id": "mPv8ouyx82Ty",
        "outputId": "90e3a58a-6757-4ad5-e9fe-e88a6f0c225a"
      },
      "execution_count": null,
      "outputs": [
        {
          "output_type": "stream",
          "name": "stdout",
          "text": [
            "<class 'str'>\n",
            "<class 'int'>\n"
          ]
        }
      ]
    },
    {
      "cell_type": "markdown",
      "source": [
        "# Q11 What is the purpose of conditional statements in Python?"
      ],
      "metadata": {
        "id": "yn2F-KXI9OnK"
      }
    },
    {
      "cell_type": "markdown",
      "source": [
        "Ans: Conditional statements allows us to execute different blocks of code based on certain conditions if the conditions are met. This makes the program dynamic and capable of decision-making."
      ],
      "metadata": {
        "id": "J_CJFLxg9Vga"
      }
    },
    {
      "cell_type": "code",
      "source": [
        "salary = 100000\n",
        "if salary >= 100000:\n",
        "    print(\"you are earning more than a lac, bahut paisa he tumhare pass\")\n",
        "else:\n",
        "    print(\"gareeb kuch nhi he tere pass\")"
      ],
      "metadata": {
        "colab": {
          "base_uri": "https://localhost:8080/"
        },
        "id": "iVyQmouv9TAC",
        "outputId": "868a09c6-b3d0-4c3d-f938-3ec3a2cf8e7a"
      },
      "execution_count": null,
      "outputs": [
        {
          "output_type": "stream",
          "name": "stdout",
          "text": [
            "you are earning more than a lac, bahut paisa he tumhare pass\n"
          ]
        }
      ]
    },
    {
      "cell_type": "markdown",
      "source": [
        "#Q12 How does the elif statement work?"
      ],
      "metadata": {
        "id": "ot9OGk7v-GEl"
      }
    },
    {
      "cell_type": "markdown",
      "source": [
        "Ans: The elif statement in Python is used for multiple conditional checks. It stands for \"else if\" and is evaluated only if the previous if or elif condition is False"
      ],
      "metadata": {
        "id": "AmGrUSHK-LCF"
      }
    },
    {
      "cell_type": "code",
      "source": [
        "Age = 20\n",
        "if Age > 18 and Age <22:\n",
        "    print(\"abhi kaha shaai karenge abhi time he \")\n",
        "elif Age > 22 and Age <28:\n",
        "    print(\"are abhi bhi time he shaai ke liye maza karne do\")\n",
        "elif Age> 28:\n",
        "    print(\"are koi mil hi nhi rahi shaddi ke liye\")\n"
      ],
      "metadata": {
        "colab": {
          "base_uri": "https://localhost:8080/"
        },
        "id": "MQXxULGF-XHm",
        "outputId": "ed8fcb66-f251-404d-9240-cbd442762b76"
      },
      "execution_count": null,
      "outputs": [
        {
          "output_type": "stream",
          "name": "stdout",
          "text": [
            "abhi kaha shaai karenge abhi time he \n"
          ]
        }
      ]
    },
    {
      "cell_type": "markdown",
      "source": [
        "#Q13What is the difference between for and while loops?\n"
      ],
      "metadata": {
        "id": "EGCcyFZo_EwA"
      }
    },
    {
      "cell_type": "markdown",
      "source": [
        "Ans: for loop: Used when the number of iterations is known beforehand. It iterates over a sequence (e.g., a list or range).\n",
        "\n",
        "while loop: Used when the number of iterations depends on a condition and is not fixed."
      ],
      "metadata": {
        "id": "KTwqlIWX_IEg"
      }
    },
    {
      "cell_type": "code",
      "source": [
        "# For loop\n",
        "for i in range(5):\n",
        "    print(i)\n",
        "\n",
        "# While loop\n",
        "i = 0\n",
        "while i < 5:\n",
        "    print(i)\n",
        "    i += 1"
      ],
      "metadata": {
        "id": "YlB-3TeC_ZWg"
      },
      "execution_count": null,
      "outputs": []
    },
    {
      "cell_type": "markdown",
      "source": [
        "Q14 Describe a scenario where a while loop is more suitable than a for loop."
      ],
      "metadata": {
        "id": "8V8KRsGr_dXJ"
      }
    },
    {
      "cell_type": "markdown",
      "source": [
        "Ans: A while loop is ideal when the number of repetations depends on multiple conditions rather than a fixed sequence. For example, reading data from a sensor until a specific value is detected:"
      ],
      "metadata": {
        "id": "7fdMriwC_e8h"
      }
    },
    {
      "cell_type": "code",
      "source": [
        "sensor_value = 0\n",
        "while sensor_value < 100:\n",
        "    sensor_value = read_sensor()  # Hypothetical function\n",
        "    print(sensor_value)"
      ],
      "metadata": {
        "id": "NyFYQCjr_2Tp"
      },
      "execution_count": null,
      "outputs": []
    },
    {
      "cell_type": "markdown",
      "source": [
        "#Practical Questions"
      ],
      "metadata": {
        "id": "H05WwnRUAPpR"
      }
    },
    {
      "cell_type": "markdown",
      "source": [
        "# Q1 Write a Python program to print \"Hello, World!\""
      ],
      "metadata": {
        "id": "0QNX2Z-KAeuh"
      }
    },
    {
      "cell_type": "code",
      "source": [
        "print(\"Hello, World!\")"
      ],
      "metadata": {
        "colab": {
          "base_uri": "https://localhost:8080/"
        },
        "id": "___W9PYfAlvp",
        "outputId": "e13e815f-ee24-4aeb-f07e-fefffa76075f"
      },
      "execution_count": null,
      "outputs": [
        {
          "output_type": "stream",
          "name": "stdout",
          "text": [
            "Hello, World!\n"
          ]
        }
      ]
    },
    {
      "cell_type": "markdown",
      "source": [
        "#Q2 Write a Python program that displays your name and age0"
      ],
      "metadata": {
        "id": "cblKAWtUBSgp"
      }
    },
    {
      "cell_type": "code",
      "source": [
        "# Input your name and age\n",
        "name = input(\"Enter your name: \")\n",
        "age = int(input(\"Enter your age: \"))\n",
        "\n",
        "# Display the name and age\n",
        "print(f\"Hello, my name is {name} and I am {age} years old.\")\n"
      ],
      "metadata": {
        "colab": {
          "base_uri": "https://localhost:8080/"
        },
        "id": "X0FC37ZeBZ6x",
        "outputId": "9b2c76cd-ef42-475c-add1-4901c3f51d4a"
      },
      "execution_count": null,
      "outputs": [
        {
          "output_type": "stream",
          "name": "stdout",
          "text": [
            "Enter your name: raj\n",
            "Enter your age: 20\n",
            "Hello, my name is raj and I am 20 years old.\n"
          ]
        }
      ]
    },
    {
      "cell_type": "markdown",
      "source": [
        "#Q3 Write code to print all the pre-defined keywords in Python using the keyword library"
      ],
      "metadata": {
        "id": "l1lJa7n6Boji"
      }
    },
    {
      "cell_type": "code",
      "source": [
        "import keyword\n",
        "\n",
        "# Print all the keywords in Python\n",
        "print(\"List of Python Keywords:\")\n",
        "for kw in keyword.kwlist:\n",
        "    print(kw)\n"
      ],
      "metadata": {
        "colab": {
          "base_uri": "https://localhost:8080/"
        },
        "id": "QnLnCPC0BtA7",
        "outputId": "5f6db5bc-dfab-4333-8cc6-3f4e7bb144a4"
      },
      "execution_count": null,
      "outputs": [
        {
          "output_type": "stream",
          "name": "stdout",
          "text": [
            "List of Python Keywords:\n",
            "False\n",
            "None\n",
            "True\n",
            "and\n",
            "as\n",
            "assert\n",
            "async\n",
            "await\n",
            "break\n",
            "class\n",
            "continue\n",
            "def\n",
            "del\n",
            "elif\n",
            "else\n",
            "except\n",
            "finally\n",
            "for\n",
            "from\n",
            "global\n",
            "if\n",
            "import\n",
            "in\n",
            "is\n",
            "lambda\n",
            "nonlocal\n",
            "not\n",
            "or\n",
            "pass\n",
            "raise\n",
            "return\n",
            "try\n",
            "while\n",
            "with\n",
            "yield\n"
          ]
        }
      ]
    },
    {
      "cell_type": "markdown",
      "source": [
        "#Q4 Write a program that checks if a given word is a Python keyword"
      ],
      "metadata": {
        "id": "2kM3wTo4B_P0"
      }
    },
    {
      "cell_type": "code",
      "source": [
        "import keyword\n",
        "\n",
        "# Take the input\n",
        "word = input(\"Enter a word to check if it is a Python keyword: \")\n",
        "\n",
        "# Check if the word is a keyword\n",
        "if keyword.iskeyword(word):\n",
        "    print(f\"'{word}' is a Python keyword.\")\n",
        "else:\n",
        "    print(f\"'{word}' is not a Python keyword.\")\n"
      ],
      "metadata": {
        "colab": {
          "base_uri": "https://localhost:8080/"
        },
        "id": "60hjBK1ECJUE",
        "outputId": "4940b955-f4fa-4e40-e477-b3de82492cf0"
      },
      "execution_count": null,
      "outputs": [
        {
          "output_type": "stream",
          "name": "stdout",
          "text": [
            "Enter a word to check if it is a Python keyword: is\n",
            "'is' is a Python keyword.\n"
          ]
        }
      ]
    },
    {
      "cell_type": "markdown",
      "source": [
        "#Q5 Create a list and tuple in Python, and demonstrate how attempting to change an element works differently"
      ],
      "metadata": {
        "id": "cVSHLx8lCcht"
      }
    },
    {
      "cell_type": "code",
      "source": [
        "# Creating a list and a tuple\n",
        "my_list = [10, 20, 30]\n",
        "my_tuple = (10, 20, 30)\n",
        "\n",
        "# Demonstrating mutability of lists\n",
        "print(\"Original List:\", my_list)\n",
        "my_list[1] = 99  # Modifying the second element in the list\n",
        "print(\"New List:\", my_list)\n",
        "\n",
        "# Demonstrating immutability of tuples\n",
        "print(\"Original Tuple:\", my_tuple)\n",
        "try:\n",
        "    my_tuple[1] = 99  # Attempting to modify the second element in the tuple\n",
        "except TypeError as e:\n",
        "    print(f\"Error: {e} (Tuples are immutable, so you cannot modify their elements)\")\n",
        "\n",
        "# Summary\n",
        "print(\"\\nLists are mutable: Their elements can be changed.\")\n",
        "print(\"Tuples are immutable: Once created, their elements cannot be changed.\")\n"
      ],
      "metadata": {
        "colab": {
          "base_uri": "https://localhost:8080/"
        },
        "id": "OCvoRqbPCozO",
        "outputId": "9f1367c6-728c-4cc1-f04a-8fd5823cea20"
      },
      "execution_count": null,
      "outputs": [
        {
          "output_type": "stream",
          "name": "stdout",
          "text": [
            "Original List: [10, 20, 30]\n",
            "New List: [10, 99, 30]\n",
            "Original Tuple: (10, 20, 30)\n",
            "Error: 'tuple' object does not support item assignment (Tuples are immutable, so you cannot modify their elements)\n",
            "\n",
            "Lists are mutable: Their elements can be changed.\n",
            "Tuples are immutable: Once created, their elements cannot be changed.\n"
          ]
        }
      ]
    },
    {
      "cell_type": "markdown",
      "source": [
        "#Q6 Write a function to demonstrate the behavior of mutable and immutable arguments"
      ],
      "metadata": {
        "id": "MjGMauu7DbbH"
      }
    },
    {
      "cell_type": "code",
      "source": [
        "# Function to modify mutable and immutable arguments\n",
        "def modify_arguments(mutable_arg, immutable_arg):\n",
        "    # Modify the mutable argument (list)\n",
        "    mutable_arg.append(100)  # Adding an element to the list\n",
        "    print(\"Inside function, mutable_arg after modification:\", mutable_arg)\n",
        "\n",
        "    # Modify the immutable argument (integer)\n",
        "    immutable_arg = immutable_arg + 50  # Reassigning a new value to the integer\n",
        "    print(\"Inside function, immutable_arg after modification:\", immutable_arg)\n",
        "\n",
        "# Main program\n",
        "# Initialize a list (mutable) and an integer (immutable)\n",
        "my_list = [1, 2, 3]\n",
        "my_int = 10\n",
        "\n",
        "# Print initial values\n",
        "print(\"Before function call:\")\n",
        "print(\"mutable_arg (my_list):\", my_list)\n",
        "print(\"immutable_arg (my_int):\", my_int)\n",
        "\n",
        "# Call the function\n",
        "modify_arguments(my_list, my_int)\n",
        "\n",
        "# Print values after function call\n",
        "print(\"\\nAfter function call:\")\n",
        "print(\"mutable_arg (my_list):\", my_list)  # The list is modified\n",
        "print(\"immutable_arg (my_int):\", my_int)  # The integer remains unchanged"
      ],
      "metadata": {
        "colab": {
          "base_uri": "https://localhost:8080/"
        },
        "id": "D5zBj2icNA7G",
        "outputId": "b1732a0c-ca0d-49bf-fab3-da71c1f04d45"
      },
      "execution_count": null,
      "outputs": [
        {
          "output_type": "stream",
          "name": "stdout",
          "text": [
            "Before function call:\n",
            "mutable_arg (my_list): [1, 2, 3]\n",
            "immutable_arg (my_int): 10\n",
            "Inside function, mutable_arg after modification: [1, 2, 3, 100]\n",
            "Inside function, immutable_arg after modification: 60\n",
            "\n",
            "After function call:\n",
            "mutable_arg (my_list): [1, 2, 3, 100]\n",
            "immutable_arg (my_int): 10\n"
          ]
        }
      ]
    },
    {
      "cell_type": "markdown",
      "source": [
        "#Q7 Write a function to demonstrate the behavior of mutable and immutable arguments"
      ],
      "metadata": {
        "id": "bhH-upYxIQt-"
      }
    },
    {
      "cell_type": "code",
      "source": [
        "# Function to modify mutable and immutable arguments\n",
        "def modify_arguments(mutable_arg, immutable_arg):\n",
        "    # Modify the mutable argument (list)\n",
        "    mutable_arg.append(100)  # Adding an element to the list\n",
        "    print(\"Inside function, mutable_arg after modification:\", mutable_arg)\n",
        "\n",
        "    # Modify the immutable argument (integer)\n",
        "    immutable_arg = immutable_arg + 50  # Reassigning a new value to the integer\n",
        "    print(\"Inside function, immutable_arg after modification:\", immutable_arg)\n",
        "\n",
        "# Main program\n",
        "# Initialize a list (mutable) and an integer (immutable)\n",
        "my_list = [1, 2, 3]\n",
        "my_int = 10\n",
        "\n",
        "# Print initial values\n",
        "print(\"Before function call:\")\n",
        "print(\"mutable_arg (my_list):\", my_list)\n",
        "print(\"immutable_arg (my_int):\", my_int)\n",
        "\n",
        "# Call the function\n",
        "modify_arguments(my_list, my_int)\n",
        "\n",
        "# Print values after function call\n",
        "print(\"\\nAfter function call:\")\n",
        "print(\"mutable_arg (my_list):\", my_list)  # The list is modified\n",
        "print(\"immutable_arg (my_int):\", my_int)  # The integer remains unchanged"
      ],
      "metadata": {
        "colab": {
          "base_uri": "https://localhost:8080/"
        },
        "id": "TejUz-XgIVCv",
        "outputId": "897e506c-aecb-4b9f-876f-ed9d32bae10e"
      },
      "execution_count": null,
      "outputs": [
        {
          "output_type": "stream",
          "name": "stdout",
          "text": [
            "Before function call:\n",
            "mutable_arg (my_list): [1, 2, 3]\n",
            "immutable_arg (my_int): 10\n",
            "Inside function, mutable_arg after modification: [1, 2, 3, 100]\n",
            "Inside function, immutable_arg after modification: 60\n",
            "\n",
            "After function call:\n",
            "mutable_arg (my_list): [1, 2, 3, 100]\n",
            "immutable_arg (my_int): 10\n"
          ]
        }
      ]
    },
    {
      "cell_type": "markdown",
      "source": [
        "#Q8 Write a program to demonstrate the use of logical operators"
      ],
      "metadata": {
        "id": "pHms7cEBIYwP"
      }
    },
    {
      "cell_type": "code",
      "source": [
        "# Program to demonstrate the use of logical operators\n",
        "\n",
        "# Taking three numbers as input from the user\n",
        "num1 = int(input(\"Enter the first number: \"))\n",
        "num2 = int(input(\"Enter the second number: \"))\n",
        "num3 = int(input(\"Enter the third number: \"))\n",
        "\n",
        "# Using the 'and' operator to check if both num1 and num2 are positive\n",
        "if num1 > 0 and num2 > 0:\n",
        "    print(\"Both the first and second numbers are positive.\")\n",
        "else:\n",
        "    print(\"At least one of the first or second numbers is not positive.\")\n",
        "\n",
        "# Using the 'or' operator to check if either num1 or num3 is positive\n",
        "if num1 > 0 or num3 > 0:\n",
        "    print(\"At least one of the first or third numbers is positive.\")\n",
        "else:\n",
        "    print(\"Neither the first nor the third number is positive.\")\n",
        "\n",
        "# Using the 'not' operator to check if num1 is not negative\n",
        "if not (num1 < 0):\n",
        "    print(\"The first number is not negative.\")\n",
        "else:\n",
        "    print(\"The first number is negative.\")"
      ],
      "metadata": {
        "colab": {
          "base_uri": "https://localhost:8080/"
        },
        "id": "VG8HVWCkJB0o",
        "outputId": "cf017939-1e45-4f24-ae3d-767e030f1648"
      },
      "execution_count": null,
      "outputs": [
        {
          "output_type": "stream",
          "name": "stdout",
          "text": [
            "Enter the first number: 2\n",
            "Enter the second number: 3\n",
            "Enter the third number: 5\n",
            "Both the first and second numbers are positive.\n",
            "At least one of the first or third numbers is positive.\n",
            "The first number is not negative.\n"
          ]
        }
      ]
    },
    {
      "cell_type": "markdown",
      "source": [
        "Explanation of the Code:\n",
        "\n",
        "and Operator:\n",
        "\n",
        "This checks if both conditions are true. For example, num1 > 0 and num2 > 0 ensures both num1 and num2 are positive.\n",
        "\n",
        "or Operator:\n",
        "\n",
        "This checks if at least one condition is true. For example, num1 > 0 or num3 > 0 checks if either num1 or num3 is positive.\n",
        "\n",
        "not Operator:\n",
        "\n",
        "This reverses a condition. For example, not (num1 < 0) means num1 is not less than 0, indicating it is not negative."
      ],
      "metadata": {
        "id": "KoCV7sUtJgKw"
      }
    },
    {
      "cell_type": "markdown",
      "source": [
        "#Q9 Write a Python program to convert user input from string to integer, float, and boolean types"
      ],
      "metadata": {
        "id": "aqlqbmtlJo53"
      }
    },
    {
      "cell_type": "code",
      "source": [
        "# Take user input as a string\n",
        "user_input = input(\"Enter a value: \")\n",
        "\n",
        "# Convert input to an integer (if possible)\n",
        "if user_input.isdigit() or (user_input[0] == '-' and user_input[1:].isdigit()):\n",
        "    int_value = int(user_input)\n",
        "    print(f\"Integer value: {int_value}\")\n",
        "else:\n",
        "    print(\"The input is not a valid integer.\")\n",
        "\n",
        "# Convert input to a float (if possible)\n",
        "if user_input.replace('.', '', 1).isdigit() or (user_input[0] == '-' and user_input[1:].replace('.', '', 1).isdigit()):\n",
        "    float_value = float(user_input)\n",
        "    print(f\"Float value: {float_value}\")\n",
        "else:\n",
        "    print(\"The input is not a valid float.\")\n",
        "\n",
        "# Convert input to a boolean\n",
        "bool_value = bool(user_input) and user_input.strip().lower() not in (\"0\", \"false\")\n",
        "print(f\"Boolean value: {bool_value}\")"
      ],
      "metadata": {
        "colab": {
          "base_uri": "https://localhost:8080/"
        },
        "id": "Wvg4oACGIcxw",
        "outputId": "1019cf39-07e3-4302-eab8-827ac04d94bb"
      },
      "execution_count": null,
      "outputs": [
        {
          "output_type": "stream",
          "name": "stdout",
          "text": [
            "Enter a value: 2\n",
            "Integer value: 2\n",
            "Float value: 2.0\n",
            "Boolean value: True\n"
          ]
        }
      ]
    },
    {
      "cell_type": "markdown",
      "source": [
        "#Q10 Write code to demonstrate type casting with list elements"
      ],
      "metadata": {
        "id": "zHp89KgHKVHe"
      }
    },
    {
      "cell_type": "code",
      "source": [
        "# Original list with mixed data types as strings\n",
        "original_list = [\"123\", \"45.67\", \"True\", \"Hello\"]\n",
        "\n",
        "# Type casting each element of the list\n",
        "for element in original_list:\n",
        "    print(f\"Original: {element}\")\n",
        "    print(f\"As Integer: {int(float(element)) if element.replace('.', '', 1).isdigit() else 'Not an Integer'}\")\n",
        "    print(f\"As Float: {float(element) if element.replace('.', '', 1).isdigit() else 'Not a Float'}\")\n",
        "    print(f\"As Boolean: {bool(element)}\")\n",
        "    print(f\"As String: {element}\")\n",
        "    print(\"-\" * 20)"
      ],
      "metadata": {
        "colab": {
          "base_uri": "https://localhost:8080/"
        },
        "id": "l9H5dG3nKavW",
        "outputId": "4a7b9327-a359-4054-f701-8f03025e0fcb"
      },
      "execution_count": null,
      "outputs": [
        {
          "output_type": "stream",
          "name": "stdout",
          "text": [
            "Original: 123\n",
            "As Integer: 123\n",
            "As Float: 123.0\n",
            "As Boolean: True\n",
            "As String: 123\n",
            "--------------------\n",
            "Original: 45.67\n",
            "As Integer: 45\n",
            "As Float: 45.67\n",
            "As Boolean: True\n",
            "As String: 45.67\n",
            "--------------------\n",
            "Original: True\n",
            "As Integer: Not an Integer\n",
            "As Float: Not a Float\n",
            "As Boolean: True\n",
            "As String: True\n",
            "--------------------\n",
            "Original: Hello\n",
            "As Integer: Not an Integer\n",
            "As Float: Not a Float\n",
            "As Boolean: True\n",
            "As String: Hello\n",
            "--------------------\n"
          ]
        }
      ]
    },
    {
      "cell_type": "markdown",
      "source": [
        "#Q11 Write a program that checks if a number is positive, negative, or zero"
      ],
      "metadata": {
        "id": "9-9x6pIlK472"
      }
    },
    {
      "cell_type": "code",
      "source": [
        "# Get user input\n",
        "number = float(input(\"Enter a number: \"))\n",
        "\n",
        "# Check if the number is positive, negative, or zero\n",
        "if number > 0:\n",
        "    print(\"The number is positive.\")\n",
        "elif number < 0:\n",
        "    print(\"The number is negative.\")\n",
        "else:\n",
        "    print(\"The number is zero.\")"
      ],
      "metadata": {
        "colab": {
          "base_uri": "https://localhost:8080/"
        },
        "id": "B4uCc_RQLBaI",
        "outputId": "271d84b1-db3c-4e6a-f0bd-05e175432150"
      },
      "execution_count": null,
      "outputs": [
        {
          "output_type": "stream",
          "name": "stdout",
          "text": [
            "Enter a number: -3\n",
            "The number is negative.\n"
          ]
        }
      ]
    },
    {
      "cell_type": "markdown",
      "source": [
        "Explanation:\n",
        "\n",
        "The program checks whether the input number is greater than 0, less than 0, or equal to 0 using basic if-elif-else conditions.\n",
        "\n",
        "It handles positive numbers, negative numbers, and zero separately."
      ],
      "metadata": {
        "id": "MQQzetydLZK4"
      }
    },
    {
      "cell_type": "markdown",
      "source": [
        "#Q12 Write a for loop to print numbers from 1 to 100"
      ],
      "metadata": {
        "id": "yviFSmrSLId-"
      }
    },
    {
      "cell_type": "code",
      "source": [
        "# For loop to print numbers from 1 to 100\n",
        "for number in range(1, 101):\n",
        "    print(number)"
      ],
      "metadata": {
        "colab": {
          "base_uri": "https://localhost:8080/"
        },
        "id": "bcj_5LZ2LMVu",
        "outputId": "4cddc708-34cb-4441-9224-2e31f339697f"
      },
      "execution_count": null,
      "outputs": [
        {
          "output_type": "stream",
          "name": "stdout",
          "text": [
            "1\n",
            "2\n",
            "3\n",
            "4\n",
            "5\n",
            "6\n",
            "7\n",
            "8\n",
            "9\n",
            "10\n",
            "11\n",
            "12\n",
            "13\n",
            "14\n",
            "15\n",
            "16\n",
            "17\n",
            "18\n",
            "19\n",
            "20\n",
            "21\n",
            "22\n",
            "23\n",
            "24\n",
            "25\n",
            "26\n",
            "27\n",
            "28\n",
            "29\n",
            "30\n",
            "31\n",
            "32\n",
            "33\n",
            "34\n",
            "35\n",
            "36\n",
            "37\n",
            "38\n",
            "39\n",
            "40\n",
            "41\n",
            "42\n",
            "43\n",
            "44\n",
            "45\n",
            "46\n",
            "47\n",
            "48\n",
            "49\n",
            "50\n",
            "51\n",
            "52\n",
            "53\n",
            "54\n",
            "55\n",
            "56\n",
            "57\n",
            "58\n",
            "59\n",
            "60\n",
            "61\n",
            "62\n",
            "63\n",
            "64\n",
            "65\n",
            "66\n",
            "67\n",
            "68\n",
            "69\n",
            "70\n",
            "71\n",
            "72\n",
            "73\n",
            "74\n",
            "75\n",
            "76\n",
            "77\n",
            "78\n",
            "79\n",
            "80\n",
            "81\n",
            "82\n",
            "83\n",
            "84\n",
            "85\n",
            "86\n",
            "87\n",
            "88\n",
            "89\n",
            "90\n",
            "91\n",
            "92\n",
            "93\n",
            "94\n",
            "95\n",
            "96\n",
            "97\n",
            "98\n",
            "99\n",
            "100\n"
          ]
        }
      ]
    },
    {
      "cell_type": "markdown",
      "source": [
        "Explanation:\n",
        "\n",
        "The range(1, 101) generates numbers from 1 to 100 (the 101 is exclusive).\n",
        "The for loop iterates over each number in the range and prints it."
      ],
      "metadata": {
        "id": "ma99ybRhLXce"
      }
    },
    {
      "cell_type": "markdown",
      "source": [
        "#Q13 Write a Python program to find the sum of all even numbers between 1 and 50"
      ],
      "metadata": {
        "id": "4KA0lIhjLnG_"
      }
    },
    {
      "cell_type": "code",
      "source": [
        "# Initialize sum variable\n",
        "sum_even = 0\n",
        "\n",
        "# Loop through numbers from 1 to 50\n",
        "for number in range(1, 51):\n",
        "    # Check if the number is even\n",
        "    if number % 2 == 0:\n",
        "        sum_even += number\n",
        "\n",
        "# Print the result\n",
        "print(\"The sum of all even numbers between 1 and 50 is:\", sum_even)"
      ],
      "metadata": {
        "colab": {
          "base_uri": "https://localhost:8080/"
        },
        "id": "mk63F_VVLqsO",
        "outputId": "6d8bbf68-5f77-4056-8bb4-d2d69b83b88d"
      },
      "execution_count": null,
      "outputs": [
        {
          "output_type": "stream",
          "name": "stdout",
          "text": [
            "The sum of all even numbers between 1 and 50 is: 650\n"
          ]
        }
      ]
    },
    {
      "cell_type": "markdown",
      "source": [
        "Explanation:\n",
        "\n",
        "The program loops through numbers from 1 to 50 using range(1, 51).\n",
        "\n",
        "For each number, it checks if it is even by using the modulus operator (% 2 == 0).\n",
        "\n",
        "If the number is even, it adds it to the sum_even variable.\n",
        "\n",
        "Finally, it prints the sum of all even numbers."
      ],
      "metadata": {
        "id": "8ZUO_qdOLvg-"
      }
    },
    {
      "cell_type": "markdown",
      "source": [
        "#Q14 Write a program to reverse a string using a while loop"
      ],
      "metadata": {
        "id": "sdIGZP6CLzqH"
      }
    },
    {
      "cell_type": "code",
      "source": [
        "# Input string\n",
        "string = input(\"Enter a string: \")\n",
        "\n",
        "# Initialize an empty string for the reversed string\n",
        "reversed_string = \"\"\n",
        "\n",
        "# Initialize index to the last character of the string\n",
        "index = len(string) - 1\n",
        "\n",
        "# Use while loop to iterate through the string in reverse order\n",
        "while index >= 0:\n",
        "    reversed_string += string[index]  # Add the character at index to reversed_string\n",
        "    index -= 1  # Move to the previous character\n",
        "\n",
        "# Print the reversed string\n",
        "print(\"Reversed string:\", reversed_string)"
      ],
      "metadata": {
        "colab": {
          "base_uri": "https://localhost:8080/"
        },
        "id": "wV9jI8gaMMtm",
        "outputId": "f2facd77-7cdc-405e-9b97-7c4be0d18601"
      },
      "execution_count": null,
      "outputs": [
        {
          "output_type": "stream",
          "name": "stdout",
          "text": [
            "Enter a string: abc\n",
            "Reversed string: cba\n"
          ]
        }
      ]
    },
    {
      "cell_type": "markdown",
      "source": [
        "Explanation:\n",
        "\n",
        "This program takes an input string from the user.\n",
        "\n",
        "It initializes reversed_string as an empty string to store the reversed string.\n",
        "\n",
        "A while loop is used to iterate through the string starting from the last character (index = len(string) - 1).\n",
        "\n",
        "In each iteration, the character at the current index is added to reversed_string, and the index is decremented to move backward through the string."
      ],
      "metadata": {
        "id": "dGCW-lagMSi9"
      }
    },
    {
      "cell_type": "markdown",
      "source": [
        "#Q15 Write a Python program to calculate the factorial of a number provided by the user using a while loop."
      ],
      "metadata": {
        "id": "II6O-X91MZtd"
      }
    },
    {
      "cell_type": "code",
      "source": [
        "# Input number\n",
        "number = int(input(\"Enter a number to calculate its factorial: \"))\n",
        "\n",
        "# Initialize factorial variable\n",
        "factorial = 1\n",
        "\n",
        "# Use a while loop to calculate factorial\n",
        "while number > 1:\n",
        "    factorial *= number  # Multiply current factorial by number\n",
        "    number -= 1  # Decrease number by 1\n",
        "\n",
        "# Print the factorial result\n",
        "print(\"The factorial is:\", factorial)"
      ],
      "metadata": {
        "colab": {
          "base_uri": "https://localhost:8080/"
        },
        "id": "aNzFfNYsMhKe",
        "outputId": "e63e4599-cc4a-4583-e146-3faeb8c5f86c"
      },
      "execution_count": null,
      "outputs": [
        {
          "output_type": "stream",
          "name": "stdout",
          "text": [
            "Enter a number to calculate its factorial: 26\n",
            "The factorial is: 403291461126605635584000000\n"
          ]
        }
      ]
    },
    {
      "cell_type": "markdown",
      "source": [
        "Explanation:\n",
        "\n",
        "The program prompts the user to input a number.\n",
        "\n",
        "It initializes the factorial variable to 1.\n",
        "\n",
        "A while loop is used to multiply the factorial by the current number and then decrease the number by 1 until the number becomes 1.\n",
        "\n",
        "Finally, it prints the factorial of the number."
      ],
      "metadata": {
        "id": "SirgLCqFMh61"
      }
    }
  ]
}